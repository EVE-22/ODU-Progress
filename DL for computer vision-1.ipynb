{
 "cells": [
  {
   "cell_type": "markdown",
   "id": "45def64b",
   "metadata": {},
   "source": [
    "# chapter synopsis"
   ]
  },
  {
   "cell_type": "markdown",
   "id": "0e73c2a7",
   "metadata": {},
   "source": [
    "Chapter-1\n",
    "\n",
    "Author describes about the tools used such as Python,keras,mxnet which are the framework,\n",
    "gives us an insight about tensorflow and theano which are the computational backend."
   ]
  },
  {
   "cell_type": "markdown",
   "id": "cc8023f2",
   "metadata": {},
   "source": [
    "Chapter-2 \n",
    "\n",
    "Author defines deep learning ,dstinguishes the difference between AL,ML,DL.\n",
    "briefs the histroy behind the Neural network and deep Learning.\n",
    "\n",
    "Hierarchical feature learning:\n",
    "ML is classified as \n",
    "-supervised(ML algo is given both input and target ouput)\n",
    "-unsupervised(ML algo try to learn automatically without hints or inputs)\n",
    "-semi supervised(disussed further in chap 4)\n",
    " \n",
    "ex:an image\n",
    "   -input:pixel intensity \n",
    "   -hidden layers:They are used extract features from input image,the hidden layers build upon eachother in hierarchical fasion.\n",
    "   -output:used to classify the image (done by the nodes in network directly or indirectly ).\n",
    "        \n",
    "hierarchical learning -each layer in network uses the oputput of the previous layer as building blocks to construct abstract concepts.\n",
    "\n",
    "the use of DL and CNN is that if skips the feature extraction and focuses on training ntw to learn filters.\n",
    "\n",
    "how deep is deep?!\n",
    "\n",
    "1.CNN,RNN,LSTM(use specialized network)\n",
    "2.network layers has depth >2(deep)\n",
    "3.depth>10 (very deep)\n"
   ]
  },
  {
   "cell_type": "code",
   "execution_count": null,
   "id": "953841a8",
   "metadata": {},
   "outputs": [],
   "source": []
  },
  {
   "cell_type": "markdown",
   "id": "125b2b26",
   "metadata": {},
   "source": [
    "Chapter-3\n",
    "\n",
    "pixels-color or intensity\n",
    "2 ways to represent it:\n",
    "-Grayscale/singlechannle-each pixel is a scalar value btw 0-255.(0-black,225-white)\n",
    "-Color-RGB(red,green,blue)no longer scalar,total 256 shades\n",
    "NOTE:data types used by the library loading images from disk (openCV)will need to be converted b4 applying algo to image).\n",
    "\n",
    "forming image from channels\n",
    "RGB 3 independent matrices to obtain multi-D array(HxWxD)-height(columns),width(rows),depth D=3(no. of channels).\n",
    "\n",
    "Coordinate System\n",
    "Python is '0' indexed,count starts from 0.\n",
    "\n",
    "image as NumPy Arrays\n",
    "OpenCV and scikit-image reps RGB image as muliti-D NumPy array (HxWxD).\n",
    "(height comes b4 width due to matrix notation).\n",
    "rows=heigt,columns=width,depth=depth.\n",
    "\n",
    "RGB and BGR ordering-rep as BRG not RGB -due to historical reasons.\n",
    "\n",
    "Scaling and aspect Ratio\n",
    "sacling-resizing\n",
    "aspect Ration-ratio of width to height of image.\n",
    "\n",
    "most cases networks and CNN assume fixed size\n",
    "either aspect ration is ignored or the image is cropped ,it depends on the situation.\n",
    "\n"
   ]
  },
  {
   "cell_type": "markdown",
   "id": "6be322d6",
   "metadata": {},
   "source": [
    "# setting up the environment"
   ]
  },
  {
   "cell_type": "code",
   "execution_count": null,
   "id": "64aa3efd",
   "metadata": {},
   "outputs": [],
   "source": [
    "import tensorflow as tf\n",
    "from tensorflow import keras"
   ]
  },
  {
   "cell_type": "code",
   "execution_count": null,
   "id": "40de6cd9",
   "metadata": {},
   "outputs": [],
   "source": []
  }
 ],
 "metadata": {
  "kernelspec": {
   "display_name": "Python 3 (ipykernel)",
   "language": "python",
   "name": "python3"
  },
  "language_info": {
   "codemirror_mode": {
    "name": "ipython",
    "version": 3
   },
   "file_extension": ".py",
   "mimetype": "text/x-python",
   "name": "python",
   "nbconvert_exporter": "python",
   "pygments_lexer": "ipython3",
   "version": "3.8.17"
  }
 },
 "nbformat": 4,
 "nbformat_minor": 5
}
