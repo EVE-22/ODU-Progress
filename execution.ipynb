{
 "cells": [
  {
   "cell_type": "markdown",
   "id": "3a7aefe9",
   "metadata": {},
   "source": [
    "Chapter-3"
   ]
  },
  {
   "cell_type": "code",
   "execution_count": 1,
   "id": "db5be522",
   "metadata": {},
   "outputs": [],
   "source": [
    "import cv2"
   ]
  },
  {
   "cell_type": "code",
   "execution_count": 4,
   "id": "b352137d",
   "metadata": {},
   "outputs": [],
   "source": [
    "image=cv2.imread(\"D:\\odu docs\\example.png\")"
   ]
  },
  {
   "cell_type": "code",
   "execution_count": 5,
   "id": "dee31840",
   "metadata": {},
   "outputs": [
    {
     "name": "stdout",
     "output_type": "stream",
     "text": [
      "(675, 1200, 3)\n"
     ]
    }
   ],
   "source": [
    "print(image.shape)"
   ]
  },
  {
   "cell_type": "code",
   "execution_count": null,
   "id": "67e4f2a1",
   "metadata": {},
   "outputs": [],
   "source": [
    "cv2.imshow(\"Image\",image)"
   ]
  },
  {
   "cell_type": "code",
   "execution_count": null,
   "id": "3a13fa01",
   "metadata": {},
   "outputs": [],
   "source": [
    "cv2.waitKey(0)"
   ]
  }
 ],
 "metadata": {
  "kernelspec": {
   "display_name": "Python 3 (ipykernel)",
   "language": "python",
   "name": "python3"
  },
  "language_info": {
   "codemirror_mode": {
    "name": "ipython",
    "version": 3
   },
   "file_extension": ".py",
   "mimetype": "text/x-python",
   "name": "python",
   "nbconvert_exporter": "python",
   "pygments_lexer": "ipython3",
   "version": "3.8.17"
  }
 },
 "nbformat": 4,
 "nbformat_minor": 5
}
